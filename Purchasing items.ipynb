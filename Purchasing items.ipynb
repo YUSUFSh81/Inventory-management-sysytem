{
 "cells": [
  {
   "cell_type": "code",
   "execution_count": 1,
   "id": "2ba79134",
   "metadata": {},
   "outputs": [
    {
     "data": {
      "text/plain": [
       "{'1001': {'name': 'Choco Cake', 'qn': 34, 'pr': 100},\n",
       " '1002': {'name': 'Milk Cake', 'pr': 800, 'qn': 100},\n",
       " '1003': {'name': 'Drink', 'pr': 85, 'qn': 100},\n",
       " '1004': {'name': 'Candy', 'pr': 5, 'qn': 1000},\n",
       " '1005': {'name': 'Pen', 'pr': 20, 'qn': 100},\n",
       " '1006': {'name': 'Phone', 'pr': 50000, 'qn': 10},\n",
       " '1007': {'name': 'Mic', 'pr': 1500, 'qn': 0},\n",
       " '1008': {'name': 'Case', 'pr': 599, 'qn': 5},\n",
       " '1009': {'name': 'Keyboard', 'pr': 1999, 'qn': 10},\n",
       " '1010': {'name': 'Pepsi', 'pr': 40, 'qn': 90},\n",
       " '1011': {'name': 'Sprite', 'pr': 40, 'qn': 95},\n",
       " '1012': {'name': 'Perk', 'pr': 10, 'qn': 30},\n",
       " '1013': {'name': 'Good Day', 'pr': 10, 'qn': 30},\n",
       " '1014': {'name': 'Limca', 'pr': 40, 'qn': 100},\n",
       " '1015': {'name': 'Dairy milk', 'pr': 70, 'qn': 20},\n",
       " '1016': {'name': 'Munch', 'pr': 20, 'qn': 50},\n",
       " '1017': {'name': 'Amul butter', 'pr': 85, 'qn': 15},\n",
       " '1018': {'name': 'Dark fantasy', 'pr': 60, 'qn': 40},\n",
       " '1019': {'name': 'Snickkers', 'pr': 45, 'qn': 20},\n",
       " '1020': {'name': 'Lottie choco pie', 'pr': 25, 'qn': 40},\n",
       " '1021': {'name': 'Bread', 'pr': 30, 'qn': 40},\n",
       " '1022': {'name': 'Butter milk', 'pr': 50, 'qn': 60},\n",
       " '1023': {'name': 'Curd', 'pr': 20, 'qn': 30},\n",
       " '1024': {'name': 'Thumps up', 'pr': 40, 'qn': 80},\n",
       " '1025': {'name': 'Appy Fizz', 'pr': 15, 'qn': 45},\n",
       " '1026': {'name': 'Sting', 'pr': 20, 'qn': 45},\n",
       " '1027': {'name': '5 Star', 'pr': 40, 'qn': 50},\n",
       " '1028': {'name': 'Brown bread', 'pr': 40, 'qn': 20},\n",
       " '1029': {'name': 'Hershery milk shake', 'pr': 150, 'qn': 50},\n",
       " '1030': {'name': 'Coffee powder', 'pr': 200, 'qn': 20}}"
      ]
     },
     "execution_count": 1,
     "metadata": {},
     "output_type": "execute_result"
    }
   ],
   "source": [
    "import json\n",
    "\n",
    "dt = open(\"records.json\",'r')\n",
    "rd = dt.read()\n",
    "dt.close()\n",
    "\n",
    "records = json.loads(rd)\n",
    "records"
   ]
  },
  {
   "cell_type": "markdown",
   "id": "2d3e1292",
   "metadata": {},
   "source": [
    "\n",
    "    "
   ]
  },
  {
   "cell_type": "code",
   "execution_count": 40,
   "id": "271ce32f",
   "metadata": {},
   "outputs": [
    {
     "name": "stdout",
     "output_type": "stream",
     "text": [
      "Enter Prodtuct ID: 1018\n",
      "Enter quantity: 2\n",
      "Name:  Dark fantasy\n",
      "Price:  60\n",
      "Total:  120\n"
     ]
    }
   ],
   "source": [
    "us_prod = str(input('Enter Prodtuct ID: '))\n",
    "us_quan = int(input('Enter quantity: '))\n",
    "    \n",
    "\n",
    "\n",
    "js = json.dumps(records)\n",
    "\n",
    "dt = open(\"record.json\",'w')\n",
    "dt.write(js)\n",
    "dt.close() \n",
    "\n",
    "if records[us_prod]['qn'] < us_quan: \n",
    "    print('Sorry! out of stock')\n",
    "\n",
    "else:\n",
    "    print('Name: ', records[us_prod]['name'])\n",
    "    print('Price: ', records[us_prod]['pr'])\n",
    "    print('Total: ', records[us_prod]['pr'] * us_quan)\n",
    "\n",
    "    records[us_prod]['qn'] = records[us_prod]['qn'] - us_quan\n",
    "    "
   ]
  },
  {
   "cell_type": "code",
   "execution_count": 41,
   "id": "ee66eedb",
   "metadata": {},
   "outputs": [
    {
     "name": "stdout",
     "output_type": "stream",
     "text": [
      "Enter Product ID: 1018\n"
     ]
    },
    {
     "data": {
      "text/plain": [
       "'{\"prod\": \"1021\", \"qn\": 1, \"amount\": 30, \"1021\": {\"prod\": \"1021\", \"qn\": 1, \"amount\": 30}, \"1022\": {\"prod\": \"1022\", \"qn\": 5, \"amount\": 250}, \"1030\": {\"prod\": \"1030\", \"qn\": 2, \"amount\": 400}, \"1009\": {\"prod\": \"1009\", \"qn\": 4, \"amount\": 7996}, \"1028\": {\"prod\": \"1028\", \"qn\": 3, \"amount\": 120}, \"1026\": {\"prod\": \"1026\", \"qn\": 1, \"amount\": 20}, \"1005\": {\"prod\": \"1005\", \"qn\": 1, \"amount\": 20}, \"1029\": {\"prod\": \"1029\", \"qn\": 3, \"amount\": 450}, \"1019\": {\"prod\": \"1019\", \"qn\": 1, \"amount\": 45}, \"1020\": {\"prod\": \"1020\", \"qn\": 5, \"amount\": 125}, \"1018\": {\"prod\": \"1018\", \"qn\": 2, \"amount\": 120}}'"
      ]
     },
     "execution_count": 41,
     "metadata": {},
     "output_type": "execute_result"
    }
   ],
   "source": [
    "prod_id = int(input('Enter Product ID: '))\n",
    "\n",
    "sales[prod_id] = {'prod' : us_prod, 'qn' : us_quan, 'amount': records[us_prod]['pr'] * us_quan}\n",
    "\n",
    "sale = json.dumps(sales)\n",
    "\n",
    "sale\n"
   ]
  },
  {
   "cell_type": "code",
   "execution_count": 13,
   "id": "4b7f31f6",
   "metadata": {},
   "outputs": [
    {
     "data": {
      "text/plain": [
       "{'prod': '1021',\n",
       " 'qn': 1,\n",
       " 'amount': 30,\n",
       " 1021: {'prod': '1021', 'qn': 1, 'amount': 30}}"
      ]
     },
     "execution_count": 13,
     "metadata": {},
     "output_type": "execute_result"
    }
   ],
   "source": [
    "sales"
   ]
  },
  {
   "cell_type": "code",
   "execution_count": 18,
   "id": "471d49f7",
   "metadata": {},
   "outputs": [],
   "source": [
    "sale = json.dumps(sales)\n",
    "\n",
    "\n",
    "sl = open('sales.json','w')\n",
    "sl.write(sale)\n",
    "sl.close()\n",
    "\n",
    "\n"
   ]
  }
 ],
 "metadata": {
  "kernelspec": {
   "display_name": "Python 3",
   "language": "python",
   "name": "python3"
  },
  "language_info": {
   "codemirror_mode": {
    "name": "ipython",
    "version": 3
   },
   "file_extension": ".py",
   "mimetype": "text/x-python",
   "name": "python",
   "nbconvert_exporter": "python",
   "pygments_lexer": "ipython3",
   "version": "3.8.8"
  }
 },
 "nbformat": 4,
 "nbformat_minor": 5
}
