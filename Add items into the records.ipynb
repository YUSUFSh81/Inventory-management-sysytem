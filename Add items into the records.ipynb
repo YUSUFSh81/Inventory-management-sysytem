{
 "cells": [
  {
   "cell_type": "code",
   "execution_count": 1,
   "id": "2fdeff0a",
   "metadata": {},
   "outputs": [
    {
     "data": {
      "text/plain": [
       "{'1001': {'name': 'Choco Cake', 'qn': 34, 'pr': 100},\n",
       " '1002': {'name': 'Milk Cake', 'pr': 800, 'qn': 100},\n",
       " '1003': {'name': 'Drink', 'pr': 85, 'qn': 100},\n",
       " '1004': {'name': 'Candy', 'pr': 5, 'qn': 1000},\n",
       " '1005': {'name': 'Pen', 'pr': 20, 'qn': 100},\n",
       " '1006': {'name': 'Phone', 'pr': 50000, 'qn': 10},\n",
       " '1007': {'name': 'Mic', 'pr': 1500, 'qn': 0},\n",
       " '1008': {'name': 'Case', 'pr': 599, 'qn': 5},\n",
       " '1009': {'name': 'Keyboard', 'pr': 1999, 'qn': 10},\n",
       " '1010': {'name': 'Pepsi', 'pr': 40, 'qn': 90},\n",
       " '1011': {'name': 'Sprite', 'pr': 40, 'qn': 95},\n",
       " '1012': {'name': 'Perk', 'pr': 10, 'qn': 30},\n",
       " '1013': {'name': 'Good Day', 'pr': 10, 'qn': 30},\n",
       " '1014': {'name': 'Limca', 'pr': 40, 'qn': 100},\n",
       " '1015': {'name': 'Dairy milk', 'pr': 70, 'qn': 20},\n",
       " '1016': {'name': 'Munch', 'pr': 20, 'qn': 50},\n",
       " '1017': {'name': 'Amul butter', 'pr': 85, 'qn': 15},\n",
       " '1018': {'name': 'Dark fantasy', 'pr': 60, 'qn': 40},\n",
       " '1019': {'name': 'Snickkers', 'pr': 45, 'qn': 20},\n",
       " '1020': {'name': 'Lottie choco pie', 'pr': 25, 'qn': 40},\n",
       " '1021': {'name': 'Bread', 'pr': 30, 'qn': 40},\n",
       " '1022': {'name': 'Butter milk', 'pr': 50, 'qn': 60},\n",
       " '1023': {'name': 'Curd', 'pr': 20, 'qn': 30},\n",
       " '1024': {'name': 'Thumps up', 'pr': 40, 'qn': 80},\n",
       " '1025': {'name': 'Appy Fizz', 'pr': 15, 'qn': 45},\n",
       " '1026': {'name': 'Sting', 'pr': 20, 'qn': 45},\n",
       " '1027': {'name': '5 Star', 'pr': 40, 'qn': 50},\n",
       " '1028': {'name': 'Brown bread', 'pr': 40, 'qn': 20},\n",
       " '1029': {'name': 'Hershery milk shake', 'pr': 150, 'qn': 50},\n",
       " '1030': {'name': 'Coffee powder', 'pr': 200, 'qn': 20}}"
      ]
     },
     "execution_count": 1,
     "metadata": {},
     "output_type": "execute_result"
    }
   ],
   "source": [
    "import json\n",
    "dt = open('records.json','r')\n",
    "rd = dt.read()\n",
    "dt.close()\n",
    "rd\n",
    "\n",
    "records = json.loads(rd)\n",
    "records\n",
    "\n"
   ]
  },
  {
   "cell_type": "code",
   "execution_count": null,
   "id": "0d24e1d1",
   "metadata": {},
   "outputs": [],
   "source": [
    "prod_id = int(input('Enter Product ID: '))\n",
    "name = str(input('Enter product name: '))\n",
    "pr = int(input('Enter price: '))\n",
    "qn = int(input('Enter quantity: '))\n",
    "\n",
    "records[prod_id] = {'name': name, 'pr': pr, 'qn': qn}\n",
    "\n",
    "js = json.dumps(records)\n",
    "\n",
    "dt = open('records.json','w')\n",
    "dt.write(js)\n",
    "dt.close()\n",
    "\n",
    "records\n",
    "\n",
    "\n"
   ]
  },
  {
   "cell_type": "raw",
   "id": "c807a939",
   "metadata": {},
   "source": [
    "records"
   ]
  }
 ],
 "metadata": {
  "kernelspec": {
   "display_name": "Python 3",
   "language": "python",
   "name": "python3"
  },
  "language_info": {
   "codemirror_mode": {
    "name": "ipython",
    "version": 3
   },
   "file_extension": ".py",
   "mimetype": "text/x-python",
   "name": "python",
   "nbconvert_exporter": "python",
   "pygments_lexer": "ipython3",
   "version": "3.8.8"
  }
 },
 "nbformat": 4,
 "nbformat_minor": 5
}
